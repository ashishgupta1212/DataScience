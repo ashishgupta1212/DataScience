{
 "cells": [
  {
   "cell_type": "markdown",
   "metadata": {},
   "source": [
    "## Exercise 1: Mailing Address \n",
    "Create a program that displays your name and complete mailing address formatted in the manner that you would usually see it on the outside of an envelope. Your program does not need to read any input from the user. "
   ]
  },
  {
   "cell_type": "code",
   "execution_count": 25,
   "metadata": {},
   "outputs": [
    {
     "name": "stdout",
     "output_type": "stream",
     "text": [
      "To \n",
      "\t Ashish Kumar Gupta \n",
      "\t C\\O Pawan Chaudhry \n",
      "\t H.N.-MB-165 Street No-5, \n",
      "\t East Delhi, Nirman Vihar, \n",
      "\t Distt-Delhi Pin-110092\n"
     ]
    }
   ],
   "source": [
    "def PrintMailingAddress():\n",
    "    address='To \\n\\t Ashish Kumar Gupta \\n\\t C\\O Pawan Chaudhry \\n\\t H.N.-MB-165 Street No-5, \\n\\t East Delhi, Nirman Vihar, \\n\\t Distt-Delhi Pin-110092'\n",
    "    print(address)\n",
    "PrintMailingAddress()"
   ]
  },
  {
   "cell_type": "markdown",
   "metadata": {},
   "source": [
    "## Exercise 2: Hello \n",
    "Write a program that asks the user to enter his or her name. The program should respond with a message that says hello to the user, using his or her name. "
   ]
  },
  {
   "cell_type": "code",
   "execution_count": 2,
   "metadata": {},
   "outputs": [
    {
     "name": "stdout",
     "output_type": "stream",
     "text": [
      "Please enter the your Name:Ashish\n",
      "Hello   Ashish\n"
     ]
    }
   ],
   "source": [
    "def AskInputFromUser():\n",
    "    inputUserName=input(\"Please enter the your Name:\")\n",
    "    print(\"Hello\",\" \",inputUserName)\n",
    "AskInputFromUser()"
   ]
  },
  {
   "cell_type": "markdown",
   "metadata": {},
   "source": [
    "## Exercise 3: Area of a Room \n",
    "Write a program that asks the user to enter the width and length of a room. Once the values have been read, your program should compute and display the area of the room. The length and the width will be entered as floating-point numbers. Include units in your prompt and output message; either feet or meters, depending on which unit you are more comfortable working with. "
   ]
  },
  {
   "cell_type": "code",
   "execution_count": 6,
   "metadata": {},
   "outputs": [
    {
     "name": "stdout",
     "output_type": "stream",
     "text": [
      "enter the room width\t66.66\n",
      "enter the room length\t666.9\n",
      "Area of room is 44455.554 Square Feet\n"
     ]
    }
   ],
   "source": [
    "def CalAreaOfRoom():\n",
    "    width=float(input(\"enter the room width\\t\"))\n",
    "    length=float(input(\"enter the room length\\t\"))\n",
    "    area=width*length\n",
    "    print('Area of room is',area ,'Square Feet')\n",
    "CalAreaOfRoom()"
   ]
  },
  {
   "cell_type": "markdown",
   "metadata": {},
   "source": [
    "## Exercise 4: Area of a Field \n",
    "Create a program that reads the length and width of a farmer’s field from the user in feet. Display the area of the field in acres. Hint: There are 43,560 square feet in an acre. "
   ]
  },
  {
   "cell_type": "code",
   "execution_count": 9,
   "metadata": {},
   "outputs": [
    {
     "name": "stdout",
     "output_type": "stream",
     "text": [
      "enter the room width(feet)\t333\n",
      "enter the room length(feet)\t33.33\n",
      "Area of field is 11098.89 Square Feet\n",
      "Area in terms of acre is 0.25479545454545455\n"
     ]
    }
   ],
   "source": [
    "def AreaOfField():\n",
    "    width=float(input(\"enter the room width(feet)\\t\"))\n",
    "    length=float(input(\"enter the room length(feet)\\t\"))\n",
    "    area=width*length\n",
    "    #1 acre=43560 square foot\n",
    "    areaInAcre=area/43560\n",
    "    print('Area of field is',area ,'Square Feet')\n",
    "    print('Area in terms of acre is', areaInAcre)\n",
    "AreaOfField()\n",
    "    "
   ]
  },
  {
   "cell_type": "markdown",
   "metadata": {},
   "source": [
    "## Exercise 5: Bottle Deposits \n",
    "In many jurisdictions a small deposit is added to drink containers to encourage people to recycle them. In one particular jurisdiction, drink containers holding one litre or less have a $0.10 deposit, and drink containers holding more than one litre have a $0.25 deposit. Write a program that reads the number of containers of each size from the user. Your program should continue by computing and displaying the refund that will be received for returning those containers. Format the output so that it includes a dollar sign and always displays exactly two decimal places. "
   ]
  },
  {
   "cell_type": "code",
   "execution_count": null,
   "metadata": {},
   "outputs": [],
   "source": [
    "def CalculateBottleDeposits():\n",
    "    less_deposit=0.10\n",
    "    more_deposit=0.25\n",
    "    less=float(input(\"Type a number of containers\"))\n",
    "    more=float(input(\"Type a number of containers\"))\n",
    "    #refund=\n",
    "    print('Refund amount amount is :','')\n"
   ]
  },
  {
   "cell_type": "markdown",
   "metadata": {},
   "source": [
    "## Exercise 6: Tax and Tip \n",
    "The program that you create for this exercise will begin by reading the cost of a meal ordered at a restaurant from the user. Then your program will compute the tax and tip for the meal. Use your local tax rate when computing the amount of tax owing. Compute the tip as 18 percent of the meal amount (without the tax). The output from your program should include the tax amount, the tip amount, and the grand total for the meal including both the tax and the tip. Format the output so that all the values are displayed using two decimal places. "
   ]
  },
  {
   "cell_type": "code",
   "execution_count": 8,
   "metadata": {},
   "outputs": [
    {
     "name": "stdout",
     "output_type": "stream",
     "text": [
      "Enter meal amount 1000\n",
      "The meal amount calculated on resutant  10  %tax is : 1100.0\n",
      "The meal amount calculated on tip tax  18  %tax is : 180.0\n",
      "The meal amount total amount is : 1280.0\n"
     ]
    }
   ],
   "source": [
    "def MealPrompt(prompt):\n",
    "    while True:\n",
    "        try:\n",
    "            num=int(input(prompt))\n",
    "                    \n",
    "        except ValueError:\n",
    "            print(\"Sorry, I didn't understand that.\")\n",
    "            continue\n",
    "        if num<=0:\n",
    "            print(\"Sorry, your response must not be negative.\")\n",
    "            continue\n",
    "        else:\n",
    "            break\n",
    "    return num\n",
    "\n",
    "mealCost=MealPrompt(\"Enter meal amount \")\n",
    "TAX_RATE=10\n",
    "TipTax_RATE=18\n",
    "MealtaxAmount = (mealCost * (TAX_RATE/100) )+ mealCost\n",
    "TipTaxAmount = (mealCost * (TipTax_RATE/100))\n",
    "totalAmount=MealtaxAmount+TipTaxAmount\n",
    "\n",
    "print(\"The meal amount calculated on resutant \",TAX_RATE,\" %tax\"\" is :\",MealtaxAmount)\n",
    "print(\"The meal amount calculated on tip tax \",TipTax_RATE,\" %tax\"\" is :\",TipTaxAmount)\n",
    "print(\"The meal amount total amount is :\",totalAmount)\n",
    "       "
   ]
  },
  {
   "cell_type": "markdown",
   "metadata": {},
   "source": [
    "## Exercise 7: Sum of the First n Positive Integers \n",
    " \n",
    "Write a program that reads a positive integer, n, from the user and then displays the sum of all the integers from 1 to n. The sum of the first n positive integers can be computed using the formula: sum = (n) (n + 1)/ 2 "
   ]
  },
  {
   "cell_type": "code",
   "execution_count": 2,
   "metadata": {},
   "outputs": [
    {
     "name": "stdout",
     "output_type": "stream",
     "text": [
      "Please enter the number: jj\n",
      "Sorry, I didn't understand that.:\n",
      "Please enter the number: 5\n",
      "The sum of positive num is : 15.0\n"
     ]
    }
   ],
   "source": [
    "def SumOfTheFirstNPositiveIntegers():\n",
    "    while True:\n",
    "        try:\n",
    "             positiveNum=int(input(\"Please enter the number: \"))\n",
    "        except ValueError:\n",
    "            print(\"Sorry, I didn't understand that.:\")\n",
    "            continue\n",
    "            \n",
    "        if positiveNum<=0:\n",
    "            print('You entered the negative number you should enter positive number')\n",
    "            continue\n",
    "            \n",
    "        else:\n",
    "            sumOfPositiveNum=((positiveNum)*(positiveNum+1))/2\n",
    "            print('The sum of positive num is :',sumOfPositiveNum)\n",
    "            break\n",
    "        #return positiveNum\n",
    "    \n",
    "SumOfTheFirstNPositiveIntegers()"
   ]
  },
  {
   "cell_type": "markdown",
   "metadata": {},
   "source": [
    "## Exercise 8: Widgets and Gizmos \n",
    "An online retailer sells two products: widgets and gizmos. Each widget weighs 75 grams. Each gizmo weighs 112 grams. Write a program that reads the number of widgets and the number of gizmos in an order from the user. Then your program should compute and display the total weight of the order. "
   ]
  },
  {
   "cell_type": "code",
   "execution_count": 2,
   "metadata": {},
   "outputs": [
    {
     "name": "stdout",
     "output_type": "stream",
     "text": [
      "Enter number of widgets -33\n",
      "Sorry, your response must not be negative.\n",
      "Enter number of widgets 3\n",
      "Enter number of gizmo --3\n",
      "Sorry, I didn't understand that.\n",
      "Enter number of gizmo 3\n",
      "The total order weight is : 561 gram\n",
      "The total order weight is : 0.561 kg\n"
     ]
    }
   ],
   "source": [
    "def WidgetsAndGizmosPrompt(prompt):\n",
    "    while True:\n",
    "        try:\n",
    "            num=int(input(prompt))\n",
    "                    \n",
    "        except ValueError:\n",
    "            print(\"Sorry, I didn't understand that.\")\n",
    "            continue\n",
    "        if num<=0:\n",
    "            print(\"Sorry, your response must not be negative.\")\n",
    "            continue\n",
    "        else:\n",
    "            break\n",
    "    return num\n",
    "\n",
    "def WidgetsAndGizmos():\n",
    "    widgetsWeight=75\n",
    "    gizmosWeight=112\n",
    "    widgets=WidgetsAndGizmosPrompt(\"Enter number of widgets \")\n",
    "    gizmo=WidgetsAndGizmosPrompt(\"Enter number of gizmo \")\n",
    "    result=widgets*widgetsWeight+gizmo*gizmosWeight\n",
    "    print('The total order weight is :',result,\"gram\")\n",
    "    print('The total order weight is :',result/1000,\"kg\")\n",
    "                    \n",
    "WidgetsAndGizmos()"
   ]
  },
  {
   "cell_type": "markdown",
   "metadata": {},
   "source": [
    "## Exercise 9: Compound Interest \n",
    "Pretend that you have just opened a new savings account that earns 4 percent interest per year. The interest that you earn is paid at the end of the year and is added to the balance of the savings account. Write a program that begins by reading the amount of money deposited into the account from the user. Then your program should compute and display the amount in the savings account after 1, 2, and 3 years. Display each amount so that it is rounded to 2 decimal places. "
   ]
  },
  {
   "cell_type": "code",
   "execution_count": 4,
   "metadata": {},
   "outputs": [
    {
     "name": "stdout",
     "output_type": "stream",
     "text": [
      "Enter the deposit amount400\n",
      "the year  1  amount is  416.0\n",
      "the year  2  amount is  432.64000000000004\n",
      "the year  3  amount is  449.9456\n"
     ]
    }
   ],
   "source": [
    "def CompoundInterestPrompt(prompt):\n",
    "    while True:\n",
    "        try:\n",
    "            num=int(input(prompt))\n",
    "                    \n",
    "        except ValueError:\n",
    "            print(\"Sorry, I didn't understand that.\")\n",
    "            continue\n",
    "        if num<=0:\n",
    "            print(\"Sorry, your response must not be negative.\")\n",
    "            continue\n",
    "        else:\n",
    "            break\n",
    "    return num\n",
    "def CompoundInterest ():\n",
    "        principalAmount=CompoundInterestPrompt(\"Enter the deposit amount\")\n",
    "        #P*(1 + r/n)^nt\n",
    "        #  If the amount is compounded annually, the amount is given as-P*(1 + r/100)^t\n",
    "        years = [1,2,3]\n",
    "        for year in years:\n",
    "            exponent = (1+(4/100));\n",
    "            finalAmount=principalAmount*pow(exponent,year)\n",
    "            print(\"the year \",year,\" amount is \",finalAmount)\n",
    "\n",
    "CompoundInterest()        "
   ]
  },
  {
   "cell_type": "markdown",
   "metadata": {},
   "source": [
    "## Exercise 10: Arithmetic \n",
    "Create a program that reads two integers, a and b, from the user. Your program should compute and display: • The sum of a and b • The difference when b is subtracted from a • The product of a and b 6 1 Introduction to Programming Exercises • The quotient when a is divided by b • The remainder when a is divided by b • The result of log10 a • The result of ab \n",
    "Hint: You will probably find the log10 function in the math module helpful for computing the second last item in the list. "
   ]
  },
  {
   "cell_type": "code",
   "execution_count": 2,
   "metadata": {},
   "outputs": [
    {
     "name": "stdout",
     "output_type": "stream",
     "text": [
      "enter the value of a 12\n",
      "enter the value of b 4\n",
      "The sum of a & b is:  16\n",
      "The diff of a & b is:  8\n",
      "The product of a & b is:  48\n",
      "The quotient of a & b is:  3.0\n",
      "The reminder of a & b is:  0\n",
      "The result of log10 a is:  1.0791812460476249\n",
      "The reminder of log10 a & b is:  1.6812412373755872\n"
     ]
    }
   ],
   "source": [
    "def ReadIntValues(prompt):\n",
    "    while True:\n",
    "        try:\n",
    "            num=int(input(prompt))\n",
    "                    \n",
    "        except ValueError:\n",
    "            print(\"Sorry, I didn't understand that.\")\n",
    "            continue\n",
    "        if num<=0:\n",
    "            print(\"Sorry, your response must not be negative.\")\n",
    "            continue\n",
    "        else:\n",
    "            break\n",
    "    return num\n",
    "\n",
    "def Cal_A_And_B():\n",
    "    import math\n",
    "    a=ReadIntValues(\"enter the value of a \")\n",
    "    b=ReadIntValues(\"enter the value of b \")\n",
    "    print('The sum of a & b is: ',a+b)\n",
    "    print('The diff of a & b is: ',a-b)\n",
    "    print('The product of a & b is: ',a*b)\n",
    "    print('The quotient of a & b is: ',a/b)\n",
    "    print('The reminder of a & b is: ',a%b)\n",
    "    print('The result of log10 a is: ',math.log10(a))\n",
    "    print('The reminder of log10 a & b is: ',math.log10(a*b))\n",
    "    \n",
    "Cal_A_And_B()    "
   ]
  },
  {
   "cell_type": "code",
   "execution_count": null,
   "metadata": {},
   "outputs": [],
   "source": []
  }
 ],
 "metadata": {
  "kernelspec": {
   "display_name": "Python 3",
   "language": "python",
   "name": "python3"
  },
  "language_info": {
   "codemirror_mode": {
    "name": "ipython",
    "version": 3
   },
   "file_extension": ".py",
   "mimetype": "text/x-python",
   "name": "python",
   "nbconvert_exporter": "python",
   "pygments_lexer": "ipython3",
   "version": "3.6.5"
  }
 },
 "nbformat": 4,
 "nbformat_minor": 2
}
